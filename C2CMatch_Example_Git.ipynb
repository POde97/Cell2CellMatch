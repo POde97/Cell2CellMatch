{
  "cells": [
    {
      "cell_type": "markdown",
      "metadata": {
        "id": "view-in-github",
        "colab_type": "text"
      },
      "source": [
        "<a href=\"https://colab.research.google.com/github/POde97/Cell2CellMatch/blob/main/C2CMatch_Example_Git.ipynb\" target=\"_parent\"><img src=\"https://colab.research.google.com/assets/colab-badge.svg\" alt=\"Open In Colab\"/></a>"
      ]
    },
    {
      "cell_type": "markdown",
      "metadata": {
        "id": "x3NsexXZwvAA"
      },
      "source": [
        "#**Install Dependencies**"
      ]
    },
    {
      "cell_type": "code",
      "source": [
        "import os\n",
        "#Cell2CellMatch depends on CellID representation thus we first install CellIDpy\n",
        "!git clone https://github.com/POde97/CellIDpy.git\n",
        "os.chdir(\"CellIDpy/\")\n",
        "!pip install -q . \n",
        "os.chdir(\"..\")\n",
        "!git clone https://github.com/POde97/Cell2CellMatch.git\n",
        "os.chdir(\"Cell2CellMatch/\")\n",
        "!pip install -q .\n",
        "os.chdir(\"..\")"
      ],
      "metadata": {
        "colab": {
          "base_uri": "https://localhost:8080/"
        },
        "id": "pNtsYZ0pjjTb",
        "outputId": "be4320b6-0dcb-44f1-e34e-edf62423f940"
      },
      "execution_count": 1,
      "outputs": [
        {
          "output_type": "stream",
          "name": "stdout",
          "text": [
            "Cloning into 'CellIDpy'...\n",
            "remote: Enumerating objects: 208, done.\u001b[K\n",
            "remote: Counting objects: 100% (83/83), done.\u001b[K\n",
            "remote: Compressing objects: 100% (82/82), done.\u001b[K\n",
            "remote: Total 208 (delta 42), reused 0 (delta 0), pack-reused 125\u001b[K\n",
            "Receiving objects: 100% (208/208), 563.68 KiB | 20.88 MiB/s, done.\n",
            "Resolving deltas: 100% (101/101), done.\n",
            "  Preparing metadata (setup.py) ... \u001b[?25l\u001b[?25hdone\n",
            "\u001b[2K     \u001b[90m━━━━━━━━━━━━━━━━━━━━━━━━━━━━━━━━━━━━━━━━\u001b[0m \u001b[32m2.0/2.0 MB\u001b[0m \u001b[31m39.6 MB/s\u001b[0m eta \u001b[36m0:00:00\u001b[0m\n",
            "\u001b[2K     \u001b[90m━━━━━━━━━━━━━━━━━━━━━━━━━━━━━━━━━━━━━━━━\u001b[0m \u001b[32m79.8/79.8 KB\u001b[0m \u001b[31m2.4 MB/s\u001b[0m eta \u001b[36m0:00:00\u001b[0m\n",
            "\u001b[2K     \u001b[90m━━━━━━━━━━━━━━━━━━━━━━━━━━━━━━━━━━━━━━━━\u001b[0m \u001b[32m96.1/96.1 KB\u001b[0m \u001b[31m5.6 MB/s\u001b[0m eta \u001b[36m0:00:00\u001b[0m\n",
            "\u001b[?25h  Preparing metadata (setup.py) ... \u001b[?25l\u001b[?25hdone\n",
            "\u001b[2K     \u001b[90m━━━━━━━━━━━━━━━━━━━━━━━━━━━━━━━━━━━━━━━━\u001b[0m \u001b[32m88.2/88.2 KB\u001b[0m \u001b[31m8.7 MB/s\u001b[0m eta \u001b[36m0:00:00\u001b[0m\n",
            "\u001b[?25h  Preparing metadata (setup.py) ... \u001b[?25l\u001b[?25hdone\n",
            "\u001b[2K     \u001b[90m━━━━━━━━━━━━━━━━━━━━━━━━━━━━━━━━━━━━━━\u001b[0m \u001b[32m110.5/110.5 KB\u001b[0m \u001b[31m14.7 MB/s\u001b[0m eta \u001b[36m0:00:00\u001b[0m\n",
            "\u001b[2K     \u001b[90m━━━━━━━━━━━━━━━━━━━━━━━━━━━━━━━━━━━━━━\u001b[0m \u001b[32m132.9/132.9 KB\u001b[0m \u001b[31m17.0 MB/s\u001b[0m eta \u001b[36m0:00:00\u001b[0m\n",
            "\u001b[2K     \u001b[90m━━━━━━━━━━━━━━━━━━━━━━━━━━━━━━━━━━━━━━━━\u001b[0m \u001b[32m52.8/52.8 KB\u001b[0m \u001b[31m6.0 MB/s\u001b[0m eta \u001b[36m0:00:00\u001b[0m\n",
            "\u001b[2K     \u001b[90m━━━━━━━━━━━━━━━━━━━━━━━━━━━━━━━━━━━━━━━━\u001b[0m \u001b[32m1.1/1.1 MB\u001b[0m \u001b[31m70.0 MB/s\u001b[0m eta \u001b[36m0:00:00\u001b[0m\n",
            "\u001b[?25h  Preparing metadata (setup.py) ... \u001b[?25l\u001b[?25hdone\n",
            "\u001b[2K     \u001b[90m━━━━━━━━━━━━━━━━━━━━━━━━━━━━━━━━━━━━━━━━\u001b[0m \u001b[32m63.5/63.5 KB\u001b[0m \u001b[31m8.0 MB/s\u001b[0m eta \u001b[36m0:00:00\u001b[0m\n",
            "\u001b[?25h  Building wheel for CellIDpy (setup.py) ... \u001b[?25l\u001b[?25hdone\n",
            "  Building wheel for umap-learn (setup.py) ... \u001b[?25l\u001b[?25hdone\n",
            "  Building wheel for session-info (setup.py) ... \u001b[?25l\u001b[?25hdone\n",
            "  Building wheel for pynndescent (setup.py) ... \u001b[?25l\u001b[?25hdone\n",
            "Cloning into 'Cell2CellMatch'...\n",
            "remote: Enumerating objects: 73, done.\u001b[K\n",
            "remote: Counting objects: 100% (2/2), done.\u001b[K\n",
            "remote: Total 73 (delta 1), reused 1 (delta 1), pack-reused 71\u001b[K\n",
            "Unpacking objects: 100% (73/73), 1.10 MiB | 2.29 MiB/s, done.\n",
            "  Preparing metadata (setup.py) ... \u001b[?25l\u001b[?25hdone\n",
            "\u001b[2K     \u001b[90m━━━━━━━━━━━━━━━━━━━━━━━━━━━━━━━━━━━━━━━━\u001b[0m \u001b[32m3.3/3.3 MB\u001b[0m \u001b[31m84.1 MB/s\u001b[0m eta \u001b[36m0:00:00\u001b[0m\n",
            "\u001b[2K     \u001b[90m━━━━━━━━━━━━━━━━━━━━━━━━━━━━━━━━━━━━━━━━\u001b[0m \u001b[32m1.3/1.3 MB\u001b[0m \u001b[31m80.6 MB/s\u001b[0m eta \u001b[36m0:00:00\u001b[0m\n",
            "\u001b[2K     \u001b[90m━━━━━━━━━━━━━━━━━━━━━━━━━━━━━━━━━━━━━━━━\u001b[0m \u001b[32m1.9/1.9 MB\u001b[0m \u001b[31m96.7 MB/s\u001b[0m eta \u001b[36m0:00:00\u001b[0m\n",
            "\u001b[?25h  Building wheel for Cell2CellMatch (setup.py) ... \u001b[?25l\u001b[?25hdone\n"
          ]
        }
      ]
    },
    {
      "cell_type": "markdown",
      "source": [
        "#**Download Data**"
      ],
      "metadata": {
        "id": "Fh8gfFbRluXF"
      }
    },
    {
      "cell_type": "code",
      "execution_count": 3,
      "metadata": {
        "colab": {
          "base_uri": "https://localhost:8080/"
        },
        "id": "H8LnT40_phtM",
        "outputId": "e06da55a-2a0a-44aa-d773-ed4dc7d39ceb"
      },
      "outputs": [
        {
          "output_type": "stream",
          "name": "stdout",
          "text": [
            "--2023-03-28 14:12:31--  https://docs.google.com/uc?export=download&id=10rHN_60c2NJvVh8HXcY7P6jNBS9ptp5E\n",
            "Resolving docs.google.com (docs.google.com)... 142.251.10.101, 142.251.10.139, 142.251.10.102, ...\n",
            "Connecting to docs.google.com (docs.google.com)|142.251.10.101|:443... connected.\n",
            "HTTP request sent, awaiting response... 303 See Other\n",
            "Location: https://doc-0k-8c-docs.googleusercontent.com/docs/securesc/ha0ro937gcuc7l7deffksulhg5h7mbp1/6p06cu5forvm6du78afgtnafmfs4cagr/1680012750000/15472246493323528491/*/10rHN_60c2NJvVh8HXcY7P6jNBS9ptp5E?e=download&uuid=ca633942-fa44-49fb-bf55-2a4b9d3d82d1 [following]\n",
            "Warning: wildcards not supported in HTTP.\n",
            "--2023-03-28 14:12:35--  https://doc-0k-8c-docs.googleusercontent.com/docs/securesc/ha0ro937gcuc7l7deffksulhg5h7mbp1/6p06cu5forvm6du78afgtnafmfs4cagr/1680012750000/15472246493323528491/*/10rHN_60c2NJvVh8HXcY7P6jNBS9ptp5E?e=download&uuid=ca633942-fa44-49fb-bf55-2a4b9d3d82d1\n",
            "Resolving doc-0k-8c-docs.googleusercontent.com (doc-0k-8c-docs.googleusercontent.com)... 74.125.24.132, 2404:6800:4003:c03::84\n",
            "Connecting to doc-0k-8c-docs.googleusercontent.com (doc-0k-8c-docs.googleusercontent.com)|74.125.24.132|:443... connected.\n",
            "HTTP request sent, awaiting response... 200 OK\n",
            "Length: 75760466 (72M) [application/octet-stream]\n",
            "Saving to: ‘Baron.h5ad’\n",
            "\n",
            "Baron.h5ad          100%[===================>]  72.25M   197MB/s    in 0.4s    \n",
            "\n",
            "2023-03-28 14:12:36 (197 MB/s) - ‘Baron.h5ad’ saved [75760466/75760466]\n",
            "\n"
          ]
        }
      ],
      "source": [
        "!wget --no-check-certificate 'https://docs.google.com/uc?export=download&id=10rHN_60c2NJvVh8HXcY7P6jNBS9ptp5E' -O \"Baron.h5ad\""
      ]
    },
    {
      "cell_type": "markdown",
      "metadata": {
        "id": "KC5IgKA5w59i"
      },
      "source": [
        "#**Load data, build Cell2CellMatch network and perform community detection**\n",
        "\n",
        "\n",
        "In brief, Cell2CellMatch() class generate a network representation of cells based on multiple correspondence analysis (mca) representation. Cells are connected through edges weighted by the correspondent Pvalue obtained through an hypergeometric test. Further it finds best treshold on Pvalue distribution and prune not significant edges, finally it detects community using Leiden Algoritm "
      ]
    },
    {
      "cell_type": "code",
      "execution_count": null,
      "metadata": {
        "id": "fXuKSp0mpzra"
      },
      "outputs": [],
      "source": [
        "from CellID import*\n",
        "from ProteinCoding import*\n",
        "from CellID import*\n",
        "from HyperG import* \n",
        "from Cell2CellMatch import*\n",
        "from utils import*\n",
        "from ProteinCoding import*\n",
        "\n",
        "\n"
      ]
    },
    {
      "cell_type": "code",
      "execution_count": 4,
      "metadata": {
        "id": "isl0y7eWIAJZ"
      },
      "outputs": [],
      "source": [
        "import scanpy as sc\n",
        "\n",
        "adata = sc.read(\"Baron.h5ad\")\n",
        "adata.obs[\"batch\"] = adata.obs[\"orig.ident\"]\n",
        "#subset data to the first two batch to speed up computation \n",
        "adata = adata[adata.obs[\"batch\"].isin([0,1])].copy()\n",
        "sc.pp.filter_cells(adata, min_counts=5)"
      ]
    },
    {
      "cell_type": "code",
      "execution_count": 5,
      "metadata": {
        "colab": {
          "base_uri": "https://localhost:8080/",
          "height": 136,
          "referenced_widgets": [
            "4b23e558f87d453a82472aff9fa8fc55",
            "f8b6a006c8c64140b7d7fc1a2daca7d0",
            "57693c5e344c453d8a2d289ba0fc8ce8",
            "6d51978fe4694681aad93992f78d2ba8",
            "7415cb1d4ae34e6c9fc664145485f2ad",
            "0076e2490f424ffeadf53eea8cbb7cd6",
            "2417536dc4584158ad3f0898956a5b03",
            "829755d4e16e4b3f8020747d6bdbba0c",
            "2bb7e07e6144483d99ef2b56496eb815",
            "7d9195298acf4c75945ce89eebf489dc",
            "fc185cee399549c08e28e53265898b3f"
          ]
        },
        "id": "273sQHXLS219",
        "outputId": "ed0e5bb5-6b01-4b85-e50b-6e330d1dcddf"
      },
      "outputs": [
        {
          "output_type": "stream",
          "name": "stdout",
          "text": [
            "Performing Cell-ID per batch\n"
          ]
        },
        {
          "output_type": "stream",
          "name": "stderr",
          "text": [
            "100%|██████████| 2/2 [00:46<00:00, 23.49s/it]\n"
          ]
        },
        {
          "output_type": "stream",
          "name": "stdout",
          "text": [
            "Hypergeometric Test\n"
          ]
        },
        {
          "output_type": "display_data",
          "data": {
            "text/plain": [
              "  0%|          | 0/160 [00:00<?, ?it/s]"
            ],
            "application/vnd.jupyter.widget-view+json": {
              "version_major": 2,
              "version_minor": 0,
              "model_id": "4b23e558f87d453a82472aff9fa8fc55"
            }
          },
          "metadata": {}
        },
        {
          "output_type": "stream",
          "name": "stdout",
          "text": [
            "Build network + sparsification\n",
            "Find communities\n"
          ]
        }
      ],
      "source": [
        "from Cell2CellMatch import Cell2CellMatch\n",
        "C2C = Cell2CellMatch.Cell2CellMatch(adata,gpu_cuda = True,mply_p = 16)"
      ]
    },
    {
      "cell_type": "code",
      "execution_count": 6,
      "metadata": {
        "id": "HpNRrtaDS27p",
        "colab": {
          "base_uri": "https://localhost:8080/"
        },
        "outputId": "f615209d-03b0-4904-e5fc-b48258334330"
      },
      "outputs": [
        {
          "output_type": "stream",
          "name": "stdout",
          "text": [
            "Adjusted Muataual Information:  0.8671667014611284\n"
          ]
        }
      ],
      "source": [
        "from sklearn.metrics.cluster import adjusted_mutual_info_score as AMI\n",
        "adata1 = adata[~adata.obs[\"C2C-cl\"].isna()]\n",
        "print(\"Adjusted Mutual Information: \",AMI(list(adata1.obs[\"cell.type\"]),list(adata1.obs[\"C2C-cl\"])))"
      ]
    },
    {
      "cell_type": "markdown",
      "metadata": {
        "id": "GuZa3GZK1mLa"
      },
      "source": [
        "#**Visualization**"
      ]
    },
    {
      "cell_type": "code",
      "execution_count": 7,
      "metadata": {
        "id": "ucAlhNbfzFdY",
        "colab": {
          "base_uri": "https://localhost:8080/",
          "height": 504
        },
        "outputId": "f5cbfbaf-1e89-4378-ec93-45c3dad02bd4"
      },
      "outputs": [
        {
          "output_type": "display_data",
          "data": {
            "text/plain": [
              "<Figure size 1728x576 with 1 Axes>"
            ],
            "image/png": "[encoded data removed]"
          },
          "metadata": {
            "needs_background": "light"
          }
        }
      ],
      "source": [
        "color = [\"black\",\"gray\",\"rosybrown\",\"red\",\"chocolate\",\"darkorange\",\"yellow\",\"lawngreen\",\"blue\",\"mediumpurple\",\"fuchsia\",\"deepskyblue\",\"navy\",'gainsboro']\n",
        "C2C.Clvis1(\"cell.type\",n=1,color=color)"
      ]
    },
    {
      "cell_type": "markdown",
      "metadata": {
        "id": "UPuhDiGU1qDo"
      },
      "source": [
        "#**Cluster signatures enrichment**"
      ]
    },
    {
      "cell_type": "code",
      "source": [
        "!pip install gseapy"
      ],
      "metadata": {
        "colab": {
          "base_uri": "https://localhost:8080/"
        },
        "id": "lCZWqB5ak-_U",
        "outputId": "6859f672-81cc-48a5-d891-0650ed43e295"
      },
      "execution_count": 8,
      "outputs": [
        {
          "output_type": "stream",
          "name": "stdout",
          "text": [
            "Looking in indexes: https://pypi.org/simple, https://us-python.pkg.dev/colab-wheels/public/simple/\n",
            "Collecting gseapy\n",
            "  Downloading gseapy-1.0.4-cp39-cp39-manylinux_2_17_x86_64.manylinux2014_x86_64.whl (1.3 MB)\n",
            "\u001b[2K     \u001b[90m━━━━━━━━━━━━━━━━━━━━━━━━━━━━━━━━━━━━━━━━\u001b[0m \u001b[32m1.3/1.3 MB\u001b[0m \u001b[31m63.3 MB/s\u001b[0m eta \u001b[36m0:00:00\u001b[0m\n",
            "\u001b[?25hRequirement already satisfied: requests in /usr/local/lib/python3.9/dist-packages (from gseapy) (2.27.1)\n",
            "Requirement already satisfied: pandas in /usr/local/lib/python3.9/dist-packages (from gseapy) (1.4.4)\n",
            "Requirement already satisfied: numpy>=1.13.0 in /usr/local/lib/python3.9/dist-packages (from gseapy) (1.22.4)\n",
            "Requirement already satisfied: matplotlib>=2.2 in /usr/local/lib/python3.9/dist-packages (from gseapy) (3.7.1)\n",
            "Requirement already satisfied: scipy in /usr/local/lib/python3.9/dist-packages (from gseapy) (1.10.1)\n",
            "Requirement already satisfied: kiwisolver>=1.0.1 in /usr/local/lib/python3.9/dist-packages (from matplotlib>=2.2->gseapy) (1.4.4)\n",
            "Requirement already satisfied: contourpy>=1.0.1 in /usr/local/lib/python3.9/dist-packages (from matplotlib>=2.2->gseapy) (1.0.7)\n",
            "Requirement already satisfied: cycler>=0.10 in /usr/local/lib/python3.9/dist-packages (from matplotlib>=2.2->gseapy) (0.11.0)\n",
            "Requirement already satisfied: fonttools>=4.22.0 in /usr/local/lib/python3.9/dist-packages (from matplotlib>=2.2->gseapy) (4.39.2)\n",
            "Requirement already satisfied: pillow>=6.2.0 in /usr/local/lib/python3.9/dist-packages (from matplotlib>=2.2->gseapy) (8.4.0)\n",
            "Requirement already satisfied: pyparsing>=2.3.1 in /usr/local/lib/python3.9/dist-packages (from matplotlib>=2.2->gseapy) (3.0.9)\n",
            "Requirement already satisfied: python-dateutil>=2.7 in /usr/local/lib/python3.9/dist-packages (from matplotlib>=2.2->gseapy) (2.8.2)\n",
            "Requirement already satisfied: packaging>=20.0 in /usr/local/lib/python3.9/dist-packages (from matplotlib>=2.2->gseapy) (23.0)\n",
            "Requirement already satisfied: importlib-resources>=3.2.0 in /usr/local/lib/python3.9/dist-packages (from matplotlib>=2.2->gseapy) (5.12.0)\n",
            "Requirement already satisfied: pytz>=2020.1 in /usr/local/lib/python3.9/dist-packages (from pandas->gseapy) (2022.7.1)\n",
            "Requirement already satisfied: urllib3<1.27,>=1.21.1 in /usr/local/lib/python3.9/dist-packages (from requests->gseapy) (1.26.15)\n",
            "Requirement already satisfied: certifi>=2017.4.17 in /usr/local/lib/python3.9/dist-packages (from requests->gseapy) (2022.12.7)\n",
            "Requirement already satisfied: idna<4,>=2.5 in /usr/local/lib/python3.9/dist-packages (from requests->gseapy) (3.4)\n",
            "Requirement already satisfied: charset-normalizer~=2.0.0 in /usr/local/lib/python3.9/dist-packages (from requests->gseapy) (2.0.12)\n",
            "Requirement already satisfied: zipp>=3.1.0 in /usr/local/lib/python3.9/dist-packages (from importlib-resources>=3.2.0->matplotlib>=2.2->gseapy) (3.15.0)\n",
            "Requirement already satisfied: six>=1.5 in /usr/local/lib/python3.9/dist-packages (from python-dateutil>=2.7->matplotlib>=2.2->gseapy) (1.16.0)\n",
            "Installing collected packages: gseapy\n",
            "Successfully installed gseapy-1.0.4\n"
          ]
        }
      ]
    },
    {
      "cell_type": "code",
      "execution_count": 9,
      "metadata": {
        "id": "LrHayQjFzFgO"
      },
      "outputs": [],
      "source": [
        "df_sign_cl = C2C.XClusterSignature()"
      ]
    },
    {
      "cell_type": "code",
      "execution_count": 10,
      "metadata": {
        "id": "Hl7D0qa6zFjA"
      },
      "outputs": [],
      "source": [
        "import gseapy\n",
        "gene_set_names = gseapy.get_library_name(organism='Human')\n",
        "Henrich=[]\n",
        "dftot = df_sign_cl\n",
        "cl_l = list(dftot.index)\n",
        "for i in range(len(dftot)):\n",
        "  glist = list(dftot.iloc[i][\"signature\"])\n",
        "\n",
        "  cl = cl_l[i]\n",
        "  #glist = list(glist.dropna().drop(\"index\").sort_values(ascending = False).index)[:200]\n",
        "  enr_res = gseapy.enrichr(gene_list=glist,\n",
        "                     organism='Human',\n",
        "                     gene_sets='GO_Biological_Process_2018',\n",
        "                     \n",
        "                     cutoff = 0.5)\n",
        "  \n",
        "  Henrich.append([cl,enr_res.results.iloc[0][\"Term\"],\n",
        "    enr_res.results.iloc[0][\"Adjusted P-value\"],\n",
        "    enr_res.results.iloc[0][\"Genes\"]])"
      ]
    },
    {
      "cell_type": "code",
      "execution_count": 12,
      "metadata": {
        "colab": {
          "base_uri": "https://localhost:8080/",
          "height": 457
        },
        "id": "BZcUR9GxzFlV",
        "outputId": "5200a36f-5d63-44d5-e66a-4b0c972e7c05"
      },
      "outputs": [
        {
          "output_type": "execute_result",
          "data": {
            "text/plain": [
              "         cluster                                          GO-Top200  \\\n",
              "0    cluster-5.0         diterpenoid metabolic process (GO:0016101)   \n",
              "1    cluster-0.0  plasma membrane bounded cell projection organi...   \n",
              "2    cluster-2.0        chemical synaptic transmission (GO:0007268)   \n",
              "3    cluster-7.0  positive regulation of T-helper 2 cell differe...   \n",
              "4    cluster-4.0     extracellular matrix organization (GO:0030198)   \n",
              "5    cluster-3.0   positive regulation of MAPK cascade (GO:0043410)   \n",
              "6    cluster-1.0               potassium ion transport (GO:0006813)   \n",
              "7    cluster-6.0                        vasculogenesis (GO:0001570)   \n",
              "8    cluster-8.0  neutrophil activation involved in immune respo...   \n",
              "9    cluster-9.0            nervous system development (GO:0007399)   \n",
              "10  cluster-10.0       regulation of podosome assembly (GO:0071801)   \n",
              "11  cluster-11.0  mitotic sister chromatid segregation (GO:0000070)   \n",
              "12  cluster-12.0  negative regulation of gene silencing by miRNA...   \n",
              "\n",
              "        P_val200                                        GenesTop200  \n",
              "0   1.230286e-05  CLPS;RBP2;SDC4;RARRES2;AKR1C1;APOA2;AKR1C3;RDH...  \n",
              "1   2.770629e-05  CFAP61;ADCYAP1;GPM6A;NPY;RASGRF1;TMEM108;MAPT;...  \n",
              "2   7.011128e-03  GABRB3;GABRA1;CHRM3;SYT1;MCHR1;GABRG2;SHISA6;G...  \n",
              "3   2.144698e-02                                 TNFSF4;NLRP3;PRKCZ  \n",
              "4   3.182051e-28  COL18A1;SPARC;COL16A1;COL14A1;LAMC3;COL12A1;NI...  \n",
              "5   8.770976e-06  EPHB6;EDN1;TGFB2;CAV2;TNFRSF10B;CX3CL1;EGFR;PD...  \n",
              "6   2.514164e-03        KCNJ6;KCNC1;KCND3;KCNMB2;KCNAB1;KCNA5;KCNJ3  \n",
              "7   6.033168e-10  RAMP2;EGFL7;NOTCH1;FLT1;SOX17;SOX18;FLT4;KDR;R...  \n",
              "8   1.222214e-11  ARHGAP9;HVCN1;FGL2;PTAFR;ITGB2;CTSS;TRPM2;MMP2...  \n",
              "9   1.594161e-06  KIRREL3;PCDHGB6;PTN;GFRA3;S100B;GFRA2;FGF5;RCA...  \n",
              "10  6.894814e-02                                       HCK;CSF2;TNF  \n",
              "11  7.534206e-11  SPAG5;PLK1;KIF14;CDCA8;KIF22;KNSTRN;ZWINT;CCNB...  \n",
              "12  4.907236e-01                                        ESR1;POU5F1  "
            ],
            "text/html": [
              "\n",
              "  <div id=\"df-0fcc9200-483c-47a3-be78-6277807ea68f\">\n",
              "    <div class=\"colab-df-container\">\n",
              "      <div>\n",
              "<style scoped>\n",
              "    .dataframe tbody tr th:only-of-type {\n",
              "        vertical-align: middle;\n",
              "    }\n",
              "\n",
              "    .dataframe tbody tr th {\n",
              "        vertical-align: top;\n",
              "    }\n",
              "\n",
              "    .dataframe thead th {\n",
              "        text-align: right;\n",
              "    }\n",
              "</style>\n",
              "<table border=\"1\" class=\"dataframe\">\n",
              "  <thead>\n",
              "    <tr style=\"text-align: right;\">\n",
              "      <th></th>\n",
              "      <th>cluster</th>\n",
              "      <th>GO-Top200</th>\n",
              "      <th>P_val200</th>\n",
              "      <th>GenesTop200</th>\n",
              "    </tr>\n",
              "  </thead>\n",
              "  <tbody>\n",
              "    <tr>\n",
              "      <th>0</th>\n",
              "      <td>cluster-5.0</td>\n",
              "      <td>diterpenoid metabolic process (GO:0016101)</td>\n",
              "      <td>1.230286e-05</td>\n",
              "      <td>CLPS;RBP2;SDC4;RARRES2;AKR1C1;APOA2;AKR1C3;RDH...</td>\n",
              "    </tr>\n",
              "    <tr>\n",
              "      <th>1</th>\n",
              "      <td>cluster-0.0</td>\n",
              "      <td>plasma membrane bounded cell projection organi...</td>\n",
              "      <td>2.770629e-05</td>\n",
              "      <td>CFAP61;ADCYAP1;GPM6A;NPY;RASGRF1;TMEM108;MAPT;...</td>\n",
              "    </tr>\n",
              "    <tr>\n",
              "      <th>2</th>\n",
              "      <td>cluster-2.0</td>\n",
              "      <td>chemical synaptic transmission (GO:0007268)</td>\n",
              "      <td>7.011128e-03</td>\n",
              "      <td>GABRB3;GABRA1;CHRM3;SYT1;MCHR1;GABRG2;SHISA6;G...</td>\n",
              "    </tr>\n",
              "    <tr>\n",
              "      <th>3</th>\n",
              "      <td>cluster-7.0</td>\n",
              "      <td>positive regulation of T-helper 2 cell differe...</td>\n",
              "      <td>2.144698e-02</td>\n",
              "      <td>TNFSF4;NLRP3;PRKCZ</td>\n",
              "    </tr>\n",
              "    <tr>\n",
              "      <th>4</th>\n",
              "      <td>cluster-4.0</td>\n",
              "      <td>extracellular matrix organization (GO:0030198)</td>\n",
              "      <td>3.182051e-28</td>\n",
              "      <td>COL18A1;SPARC;COL16A1;COL14A1;LAMC3;COL12A1;NI...</td>\n",
              "    </tr>\n",
              "    <tr>\n",
              "      <th>5</th>\n",
              "      <td>cluster-3.0</td>\n",
              "      <td>positive regulation of MAPK cascade (GO:0043410)</td>\n",
              "      <td>8.770976e-06</td>\n",
              "      <td>EPHB6;EDN1;TGFB2;CAV2;TNFRSF10B;CX3CL1;EGFR;PD...</td>\n",
              "    </tr>\n",
              "    <tr>\n",
              "      <th>6</th>\n",
              "      <td>cluster-1.0</td>\n",
              "      <td>potassium ion transport (GO:0006813)</td>\n",
              "      <td>2.514164e-03</td>\n",
              "      <td>KCNJ6;KCNC1;KCND3;KCNMB2;KCNAB1;KCNA5;KCNJ3</td>\n",
              "    </tr>\n",
              "    <tr>\n",
              "      <th>7</th>\n",
              "      <td>cluster-6.0</td>\n",
              "      <td>vasculogenesis (GO:0001570)</td>\n",
              "      <td>6.033168e-10</td>\n",
              "      <td>RAMP2;EGFL7;NOTCH1;FLT1;SOX17;SOX18;FLT4;KDR;R...</td>\n",
              "    </tr>\n",
              "    <tr>\n",
              "      <th>8</th>\n",
              "      <td>cluster-8.0</td>\n",
              "      <td>neutrophil activation involved in immune respo...</td>\n",
              "      <td>1.222214e-11</td>\n",
              "      <td>ARHGAP9;HVCN1;FGL2;PTAFR;ITGB2;CTSS;TRPM2;MMP2...</td>\n",
              "    </tr>\n",
              "    <tr>\n",
              "      <th>9</th>\n",
              "      <td>cluster-9.0</td>\n",
              "      <td>nervous system development (GO:0007399)</td>\n",
              "      <td>1.594161e-06</td>\n",
              "      <td>KIRREL3;PCDHGB6;PTN;GFRA3;S100B;GFRA2;FGF5;RCA...</td>\n",
              "    </tr>\n",
              "    <tr>\n",
              "      <th>10</th>\n",
              "      <td>cluster-10.0</td>\n",
              "      <td>regulation of podosome assembly (GO:0071801)</td>\n",
              "      <td>6.894814e-02</td>\n",
              "      <td>HCK;CSF2;TNF</td>\n",
              "    </tr>\n",
              "    <tr>\n",
              "      <th>11</th>\n",
              "      <td>cluster-11.0</td>\n",
              "      <td>mitotic sister chromatid segregation (GO:0000070)</td>\n",
              "      <td>7.534206e-11</td>\n",
              "      <td>SPAG5;PLK1;KIF14;CDCA8;KIF22;KNSTRN;ZWINT;CCNB...</td>\n",
              "    </tr>\n",
              "    <tr>\n",
              "      <th>12</th>\n",
              "      <td>cluster-12.0</td>\n",
              "      <td>negative regulation of gene silencing by miRNA...</td>\n",
              "      <td>4.907236e-01</td>\n",
              "      <td>ESR1;POU5F1</td>\n",
              "    </tr>\n",
              "  </tbody>\n",
              "</table>\n",
              "</div>\n",
              "      <button class=\"colab-df-convert\" onclick=\"convertToInteractive('df-0fcc9200-483c-47a3-be78-6277807ea68f')\"\n",
              "              title=\"Convert this dataframe to an interactive table.\"\n",
              "              style=\"display:none;\">\n",
              "        \n",
              "  <svg xmlns=\"http://www.w3.org/2000/svg\" height=\"24px\"viewBox=\"0 0 24 24\"\n",
              "       width=\"24px\">\n",
              "    <path d=\"M0 0h24v24H0V0z\" fill=\"none\"/>\n",
              "    <path d=\"M18.56 5.44l.94 2.06.94-2.06 2.06-.94-2.06-.94-.94-2.06-.94 2.06-2.06.94zm-11 1L8.5 8.5l.94-2.06 2.06-.94-2.06-.94L8.5 2.5l-.94 2.06-2.06.94zm10 10l.94 2.06.94-2.06 2.06-.94-2.06-.94-.94-2.06-.94 2.06-2.06.94z\"/><path d=\"M17.41 7.96l-1.37-1.37c-.4-.4-.92-.59-1.43-.59-.52 0-1.04.2-1.43.59L10.3 9.45l-7.72 7.72c-.78.78-.78 2.05 0 2.83L4 21.41c.39.39.9.59 1.41.59.51 0 1.02-.2 1.41-.59l7.78-7.78 2.81-2.81c.8-.78.8-2.07 0-2.86zM5.41 20L4 18.59l7.72-7.72 1.47 1.35L5.41 20z\"/>\n",
              "  </svg>\n",
              "      </button>\n",
              "      \n",
              "  <style>\n",
              "    .colab-df-container {\n",
              "      display:flex;\n",
              "      flex-wrap:wrap;\n",
              "      gap: 12px;\n",
              "    }\n",
              "\n",
              "    .colab-df-convert {\n",
              "      background-color: #E8F0FE;\n",
              "      border: none;\n",
              "      border-radius: 50%;\n",
              "      cursor: pointer;\n",
              "      display: none;\n",
              "      fill: #1967D2;\n",
              "      height: 32px;\n",
              "      padding: 0 0 0 0;\n",
              "      width: 32px;\n",
              "    }\n",
              "\n",
              "    .colab-df-convert:hover {\n",
              "      background-color: #E2EBFA;\n",
              "      box-shadow: 0px 1px 2px rgba(60, 64, 67, 0.3), 0px 1px 3px 1px rgba(60, 64, 67, 0.15);\n",
              "      fill: #174EA6;\n",
              "    }\n",
              "\n",
              "    [theme=dark] .colab-df-convert {\n",
              "      background-color: #3B4455;\n",
              "      fill: #D2E3FC;\n",
              "    }\n",
              "\n",
              "    [theme=dark] .colab-df-convert:hover {\n",
              "      background-color: #434B5C;\n",
              "      box-shadow: 0px 1px 3px 1px rgba(0, 0, 0, 0.15);\n",
              "      filter: drop-shadow(0px 1px 2px rgba(0, 0, 0, 0.3));\n",
              "      fill: #FFFFFF;\n",
              "    }\n",
              "  </style>\n",
              "\n",
              "      <script>\n",
              "        const buttonEl =\n",
              "          document.querySelector('#df-0fcc9200-483c-47a3-be78-6277807ea68f button.colab-df-convert');\n",
              "        buttonEl.style.display =\n",
              "          google.colab.kernel.accessAllowed ? 'block' : 'none';\n",
              "\n",
              "        async function convertToInteractive(key) {\n",
              "          const element = document.querySelector('#df-0fcc9200-483c-47a3-be78-6277807ea68f');\n",
              "          const dataTable =\n",
              "            await google.colab.kernel.invokeFunction('convertToInteractive',\n",
              "                                                     [key], {});\n",
              "          if (!dataTable) return;\n",
              "\n",
              "          const docLinkHtml = 'Like what you see? Visit the ' +\n",
              "            '<a target=\"_blank\" href=https://colab.research.google.com/notebooks/data_table.ipynb>data table notebook</a>'\n",
              "            + ' to learn more about interactive tables.';\n",
              "          element.innerHTML = '';\n",
              "          dataTable['output_type'] = 'display_data';\n",
              "          await google.colab.output.renderOutput(dataTable, element);\n",
              "          const docLink = document.createElement('div');\n",
              "          docLink.innerHTML = docLinkHtml;\n",
              "          element.appendChild(docLink);\n",
              "        }\n",
              "      </script>\n",
              "    </div>\n",
              "  </div>\n",
              "  "
            ]
          },
          "metadata": {},
          "execution_count": 12
        }
      ],
      "source": [
        "import pandas as pd\n",
        "d_top200 = pd.DataFrame(Henrich,columns = [\"cluster\",\"GO-Top200\",\"P_val200\",\"GenesTop200\"])\n",
        "d_top200"
      ]
    },
    {
      "cell_type": "code",
      "source": [],
      "metadata": {
        "id": "2-7hWxxcCw8G"
      },
      "execution_count": null,
      "outputs": []
    }
  ],
  "metadata": {
    "accelerator": "GPU",
    "colab": {
      "machine_shape": "hm",
      "provenance": [],
      "mount_file_id": "1r6wEGQr1dpw1eboiJl2sEUwVPVcE1YGu",
      "authorship_tag": "ABX9TyNjS+phy9ekZ6eI1c+V48hd",
      "include_colab_link": true
    },
    "gpuClass": "standard",
    "kernelspec": {
      "display_name": "Python 3",
      "name": "python3"
    },
    "language_info": {
      "name": "python"
    },
    "widgets": {
      "application/vnd.jupyter.widget-state+json": {
        "4b23e558f87d453a82472aff9fa8fc55": {
          "model_module": "@jupyter-widgets/controls",
          "model_name": "HBoxModel",
          "model_module_version": "1.5.0",
          "state": {
            "_dom_classes": [],
            "_model_module": "@jupyter-widgets/controls",
            "_model_module_version": "1.5.0",
            "_model_name": "HBoxModel",
            "_view_count": null,
            "_view_module": "@jupyter-widgets/controls",
            "_view_module_version": "1.5.0",
            "_view_name": "HBoxView",
            "box_style": "",
            "children": [
              "IPY_MODEL_f8b6a006c8c64140b7d7fc1a2daca7d0",
              "IPY_MODEL_57693c5e344c453d8a2d289ba0fc8ce8",
              "IPY_MODEL_6d51978fe4694681aad93992f78d2ba8"
            ],
            "layout": "IPY_MODEL_7415cb1d4ae34e6c9fc664145485f2ad"
          }
        },
        "f8b6a006c8c64140b7d7fc1a2daca7d0": {
          "model_module": "@jupyter-widgets/controls",
          "model_name": "HTMLModel",
          "model_module_version": "1.5.0",
          "state": {
            "_dom_classes": [],
            "_model_module": "@jupyter-widgets/controls",
            "_model_module_version": "1.5.0",
            "_model_name": "HTMLModel",
            "_view_count": null,
            "_view_module": "@jupyter-widgets/controls",
            "_view_module_version": "1.5.0",
            "_view_name": "HTMLView",
            "description": "",
            "description_tooltip": null,
            "layout": "IPY_MODEL_0076e2490f424ffeadf53eea8cbb7cd6",
            "placeholder": "​",
            "style": "IPY_MODEL_2417536dc4584158ad3f0898956a5b03",
            "value": "100%"
          }
        },
        "57693c5e344c453d8a2d289ba0fc8ce8": {
          "model_module": "@jupyter-widgets/controls",
          "model_name": "FloatProgressModel",
          "model_module_version": "1.5.0",
          "state": {
            "_dom_classes": [],
            "_model_module": "@jupyter-widgets/controls",
            "_model_module_version": "1.5.0",
            "_model_name": "FloatProgressModel",
            "_view_count": null,
            "_view_module": "@jupyter-widgets/controls",
            "_view_module_version": "1.5.0",
            "_view_name": "ProgressView",
            "bar_style": "success",
            "description": "",
            "description_tooltip": null,
            "layout": "IPY_MODEL_829755d4e16e4b3f8020747d6bdbba0c",
            "max": 160,
            "min": 0,
            "orientation": "horizontal",
            "style": "IPY_MODEL_2bb7e07e6144483d99ef2b56496eb815",
            "value": 160
          }
        },
        "6d51978fe4694681aad93992f78d2ba8": {
          "model_module": "@jupyter-widgets/controls",
          "model_name": "HTMLModel",
          "model_module_version": "1.5.0",
          "state": {
            "_dom_classes": [],
            "_model_module": "@jupyter-widgets/controls",
            "_model_module_version": "1.5.0",
            "_model_name": "HTMLModel",
            "_view_count": null,
            "_view_module": "@jupyter-widgets/controls",
            "_view_module_version": "1.5.0",
            "_view_name": "HTMLView",
            "description": "",
            "description_tooltip": null,
            "layout": "IPY_MODEL_7d9195298acf4c75945ce89eebf489dc",
            "placeholder": "​",
            "style": "IPY_MODEL_fc185cee399549c08e28e53265898b3f",
            "value": " 160/160 [33:47&lt;00:00, 12.74s/it]"
          }
        },
        "7415cb1d4ae34e6c9fc664145485f2ad": {
          "model_module": "@jupyter-widgets/base",
          "model_name": "LayoutModel",
          "model_module_version": "1.2.0",
          "state": {
            "_model_module": "@jupyter-widgets/base",
            "_model_module_version": "1.2.0",
            "_model_name": "LayoutModel",
            "_view_count": null,
            "_view_module": "@jupyter-widgets/base",
            "_view_module_version": "1.2.0",
            "_view_name": "LayoutView",
            "align_content": null,
            "align_items": null,
            "align_self": null,
            "border": null,
            "bottom": null,
            "display": "inline-flex",
            "flex": null,
            "flex_flow": "row wrap",
            "grid_area": null,
            "grid_auto_columns": null,
            "grid_auto_flow": null,
            "grid_auto_rows": null,
            "grid_column": null,
            "grid_gap": null,
            "grid_row": null,
            "grid_template_areas": null,
            "grid_template_columns": null,
            "grid_template_rows": null,
            "height": null,
            "justify_content": null,
            "justify_items": null,
            "left": null,
            "margin": null,
            "max_height": null,
            "max_width": null,
            "min_height": null,
            "min_width": null,
            "object_fit": null,
            "object_position": null,
            "order": null,
            "overflow": null,
            "overflow_x": null,
            "overflow_y": null,
            "padding": null,
            "right": null,
            "top": null,
            "visibility": null,
            "width": "100%"
          }
        },
        "0076e2490f424ffeadf53eea8cbb7cd6": {
          "model_module": "@jupyter-widgets/base",
          "model_name": "LayoutModel",
          "model_module_version": "1.2.0",
          "state": {
            "_model_module": "@jupyter-widgets/base",
            "_model_module_version": "1.2.0",
            "_model_name": "LayoutModel",
            "_view_count": null,
            "_view_module": "@jupyter-widgets/base",
            "_view_module_version": "1.2.0",
            "_view_name": "LayoutView",
            "align_content": null,
            "align_items": null,
            "align_self": null,
            "border": null,
            "bottom": null,
            "display": null,
            "flex": null,
            "flex_flow": null,
            "grid_area": null,
            "grid_auto_columns": null,
            "grid_auto_flow": null,
            "grid_auto_rows": null,
            "grid_column": null,
            "grid_gap": null,
            "grid_row": null,
            "grid_template_areas": null,
            "grid_template_columns": null,
            "grid_template_rows": null,
            "height": null,
            "justify_content": null,
            "justify_items": null,
            "left": null,
            "margin": null,
            "max_height": null,
            "max_width": null,
            "min_height": null,
            "min_width": null,
            "object_fit": null,
            "object_position": null,
            "order": null,
            "overflow": null,
            "overflow_x": null,
            "overflow_y": null,
            "padding": null,
            "right": null,
            "top": null,
            "visibility": null,
            "width": null
          }
        },
        "2417536dc4584158ad3f0898956a5b03": {
          "model_module": "@jupyter-widgets/controls",
          "model_name": "DescriptionStyleModel",
          "model_module_version": "1.5.0",
          "state": {
            "_model_module": "@jupyter-widgets/controls",
            "_model_module_version": "1.5.0",
            "_model_name": "DescriptionStyleModel",
            "_view_count": null,
            "_view_module": "@jupyter-widgets/base",
            "_view_module_version": "1.2.0",
            "_view_name": "StyleView",
            "description_width": ""
          }
        },
        "829755d4e16e4b3f8020747d6bdbba0c": {
          "model_module": "@jupyter-widgets/base",
          "model_name": "LayoutModel",
          "model_module_version": "1.2.0",
          "state": {
            "_model_module": "@jupyter-widgets/base",
            "_model_module_version": "1.2.0",
            "_model_name": "LayoutModel",
            "_view_count": null,
            "_view_module": "@jupyter-widgets/base",
            "_view_module_version": "1.2.0",
            "_view_name": "LayoutView",
            "align_content": null,
            "align_items": null,
            "align_self": null,
            "border": null,
            "bottom": null,
            "display": null,
            "flex": "2",
            "flex_flow": null,
            "grid_area": null,
            "grid_auto_columns": null,
            "grid_auto_flow": null,
            "grid_auto_rows": null,
            "grid_column": null,
            "grid_gap": null,
            "grid_row": null,
            "grid_template_areas": null,
            "grid_template_columns": null,
            "grid_template_rows": null,
            "height": null,
            "justify_content": null,
            "justify_items": null,
            "left": null,
            "margin": null,
            "max_height": null,
            "max_width": null,
            "min_height": null,
            "min_width": null,
            "object_fit": null,
            "object_position": null,
            "order": null,
            "overflow": null,
            "overflow_x": null,
            "overflow_y": null,
            "padding": null,
            "right": null,
            "top": null,
            "visibility": null,
            "width": null
          }
        },
        "2bb7e07e6144483d99ef2b56496eb815": {
          "model_module": "@jupyter-widgets/controls",
          "model_name": "ProgressStyleModel",
          "model_module_version": "1.5.0",
          "state": {
            "_model_module": "@jupyter-widgets/controls",
            "_model_module_version": "1.5.0",
            "_model_name": "ProgressStyleModel",
            "_view_count": null,
            "_view_module": "@jupyter-widgets/base",
            "_view_module_version": "1.2.0",
            "_view_name": "StyleView",
            "bar_color": null,
            "description_width": ""
          }
        },
        "7d9195298acf4c75945ce89eebf489dc": {
          "model_module": "@jupyter-widgets/base",
          "model_name": "LayoutModel",
          "model_module_version": "1.2.0",
          "state": {
            "_model_module": "@jupyter-widgets/base",
            "_model_module_version": "1.2.0",
            "_model_name": "LayoutModel",
            "_view_count": null,
            "_view_module": "@jupyter-widgets/base",
            "_view_module_version": "1.2.0",
            "_view_name": "LayoutView",
            "align_content": null,
            "align_items": null,
            "align_self": null,
            "border": null,
            "bottom": null,
            "display": null,
            "flex": null,
            "flex_flow": null,
            "grid_area": null,
            "grid_auto_columns": null,
            "grid_auto_flow": null,
            "grid_auto_rows": null,
            "grid_column": null,
            "grid_gap": null,
            "grid_row": null,
            "grid_template_areas": null,
            "grid_template_columns": null,
            "grid_template_rows": null,
            "height": null,
            "justify_content": null,
            "justify_items": null,
            "left": null,
            "margin": null,
            "max_height": null,
            "max_width": null,
            "min_height": null,
            "min_width": null,
            "object_fit": null,
            "object_position": null,
            "order": null,
            "overflow": null,
            "overflow_x": null,
            "overflow_y": null,
            "padding": null,
            "right": null,
            "top": null,
            "visibility": null,
            "width": null
          }
        },
        "fc185cee399549c08e28e53265898b3f": {
          "model_module": "@jupyter-widgets/controls",
          "model_name": "DescriptionStyleModel",
          "model_module_version": "1.5.0",
          "state": {
            "_model_module": "@jupyter-widgets/controls",
            "_model_module_version": "1.5.0",
            "_model_name": "DescriptionStyleModel",
            "_view_count": null,
            "_view_module": "@jupyter-widgets/base",
            "_view_module_version": "1.2.0",
            "_view_name": "StyleView",
            "description_width": ""
          }
        }
      }
    }
  },
  "nbformat": 4,
  "nbformat_minor": 0
}