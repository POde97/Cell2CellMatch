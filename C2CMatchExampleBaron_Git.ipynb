{
  "cells": [
    {
      "cell_type": "markdown",
      "metadata": {
        "id": "view-in-github",
        "colab_type": "text"
      },
      "source": [
        "<a href=\"https://colab.research.google.com/github/POde97/Cell2CellMatch/blob/main/C2CMatchExampleBaron_Git.ipynb\" target=\"_parent\"><img src=\"https://colab.research.google.com/assets/colab-badge.svg\" alt=\"Open In Colab\"/></a>"
      ]
    },
    {
      "cell_type": "markdown",
      "metadata": {
        "id": "x3NsexXZwvAA"
      },
      "source": [
        "#**Install Dependencies**"
      ]
    },
    {
      "cell_type": "code",
      "execution_count": 1,
      "metadata": {
        "colab": {
          "base_uri": "https://localhost:8080/"
        },
        "id": "eX31vJ7wJVf3",
        "outputId": "ba50e309-0111-4e84-c264-bb4fc9f3696d"
      },
      "outputs": [
        {
          "output_type": "stream",
          "name": "stdout",
          "text": [
            "\u001b[?25l     \u001b[90m━━━━━━━━━━━━━━━━━━━━━━━━━━━━━━━━━━━━━━━━\u001b[0m \u001b[32m0.0/1.9 MB\u001b[0m \u001b[31m?\u001b[0m eta \u001b[36m-:--:--\u001b[0m\r\u001b[2K     \u001b[91m━━━━━━━━━━━━━━━━━━━━━━━━━━━━━━━━━━━━━━━\u001b[0m\u001b[91m╸\u001b[0m \u001b[32m1.9/1.9 MB\u001b[0m \u001b[31m170.4 MB/s\u001b[0m eta \u001b[36m0:00:01\u001b[0m\r\u001b[2K     \u001b[90m━━━━━━━━━━━━━━━━━━━━━━━━━━━━━━━━━━━━━━━━\u001b[0m \u001b[32m1.9/1.9 MB\u001b[0m \u001b[31m39.5 MB/s\u001b[0m eta \u001b[36m0:00:00\u001b[0m\n",
            "\u001b[?25h\u001b[33mWARNING: The candidate selected for download or install is a yanked version: 'networkx' candidate (version 2.6 at https://files.pythonhosted.org/packages/b2/87/30ed9e62d5459bbf22b335fc2d9d1faf979d44b1c55a1f0455da0afd756e/networkx-2.6-py3-none-any.whl#sha256=2c9df3a92e7428adba5b6de05ee50d023491e47dabef63b399c7be8dc8a984d3 (from https://pypi.org/simple/networkx/) (requires-python:>=3.7))\n",
            "Reason for being yanked: Need to resolve: https://github.com/networkx/networkx/pull/4967\u001b[0m\u001b[33m\n",
            "\u001b[2K     \u001b[90m━━━━━━━━━━━━━━━━━━━━━━━━━━━━━━━━━━━━━━━━\u001b[0m \u001b[32m2.0/2.0 MB\u001b[0m \u001b[31m68.6 MB/s\u001b[0m eta \u001b[36m0:00:00\u001b[0m\n",
            "\u001b[?25h  Preparing metadata (setup.py) ... \u001b[?25l\u001b[?25hdone\n",
            "\u001b[2K     \u001b[90m━━━━━━━━━━━━━━━━━━━━━━━━━━━━━━━━━━━━━━━━\u001b[0m \u001b[32m88.2/88.2 KB\u001b[0m \u001b[31m12.2 MB/s\u001b[0m eta \u001b[36m0:00:00\u001b[0m\n",
            "\u001b[?25h  Preparing metadata (setup.py) ... \u001b[?25l\u001b[?25hdone\n",
            "\u001b[2K     \u001b[90m━━━━━━━━━━━━━━━━━━━━━━━━━━━━━━━━━━━━━━━━\u001b[0m \u001b[32m96.1/96.1 KB\u001b[0m \u001b[31m12.8 MB/s\u001b[0m eta \u001b[36m0:00:00\u001b[0m\n",
            "\u001b[2K     \u001b[90m━━━━━━━━━━━━━━━━━━━━━━━━━━━━━━━━━━━━━━━━\u001b[0m \u001b[32m1.1/1.1 MB\u001b[0m \u001b[31m69.4 MB/s\u001b[0m eta \u001b[36m0:00:00\u001b[0m\n",
            "\u001b[?25h  Preparing metadata (setup.py) ... \u001b[?25l\u001b[?25hdone\n",
            "\u001b[2K     \u001b[90m━━━━━━━━━━━━━━━━━━━━━━━━━━━━━━━━━━━━━━━━\u001b[0m \u001b[32m63.5/63.5 KB\u001b[0m \u001b[31m8.1 MB/s\u001b[0m eta \u001b[36m0:00:00\u001b[0m\n",
            "\u001b[?25h  Building wheel for umap-learn (setup.py) ... \u001b[?25l\u001b[?25hdone\n",
            "  Building wheel for session-info (setup.py) ... \u001b[?25l\u001b[?25hdone\n",
            "  Building wheel for pynndescent (setup.py) ... \u001b[?25l\u001b[?25hdone\n",
            "\u001b[2K     \u001b[90m━━━━━━━━━━━━━━━━━━━━━━━━━━━━━━━━━━━━━━━━\u001b[0m \u001b[32m79.8/79.8 KB\u001b[0m \u001b[31m9.2 MB/s\u001b[0m eta \u001b[36m0:00:00\u001b[0m\n",
            "\u001b[2K     \u001b[90m━━━━━━━━━━━━━━━━━━━━━━━━━━━━━━━━━━━━━━\u001b[0m \u001b[32m110.5/110.5 KB\u001b[0m \u001b[31m15.2 MB/s\u001b[0m eta \u001b[36m0:00:00\u001b[0m\n",
            "\u001b[2K     \u001b[90m━━━━━━━━━━━━━━━━━━━━━━━━━━━━━━━━━━━━━━\u001b[0m \u001b[32m132.9/132.9 KB\u001b[0m \u001b[31m16.8 MB/s\u001b[0m eta \u001b[36m0:00:00\u001b[0m\n",
            "\u001b[2K     \u001b[90m━━━━━━━━━━━━━━━━━━━━━━━━━━━━━━━━━━━━━━━━\u001b[0m \u001b[32m52.8/52.8 KB\u001b[0m \u001b[31m6.8 MB/s\u001b[0m eta \u001b[36m0:00:00\u001b[0m\n",
            "\u001b[2K     \u001b[90m━━━━━━━━━━━━━━━━━━━━━━━━━━━━━━━━━━━━━━━━\u001b[0m \u001b[32m40.9/40.9 MB\u001b[0m \u001b[31m41.7 MB/s\u001b[0m eta \u001b[36m0:00:00\u001b[0m\n",
            "\u001b[?25h  Preparing metadata (setup.py) ... \u001b[?25l\u001b[?25hdone\n",
            "  Building wheel for matplotlib (setup.py) ... \u001b[?25l\u001b[?25hdone\n",
            "\u001b[31mERROR: pip's dependency resolver does not currently take into account all the packages that are installed. This behaviour is the source of the following dependency conflicts.\n",
            "scanpy 1.9.3 requires matplotlib>=3.4, but you have matplotlib 3.1.3 which is incompatible.\n",
            "plotnine 0.10.1 requires matplotlib>=3.5.0, but you have matplotlib 3.1.3 which is incompatible.\n",
            "pandas-profiling 3.2.0 requires matplotlib>=3.2.0, but you have matplotlib 3.1.3 which is incompatible.\n",
            "networkx 2.6 requires matplotlib>=3.3, but you have matplotlib 3.1.3 which is incompatible.\n",
            "mizani 0.8.1 requires matplotlib>=3.5.0, but you have matplotlib 3.1.3 which is incompatible.\n",
            "arviz 0.15.1 requires matplotlib>=3.2, but you have matplotlib 3.1.3 which is incompatible.\u001b[0m\u001b[31m\n",
            "\u001b[2K     \u001b[90m━━━━━━━━━━━━━━━━━━━━━━━━━━━━━━━━━━━━━━━━\u001b[0m \u001b[32m3.3/3.3 MB\u001b[0m \u001b[31m55.3 MB/s\u001b[0m eta \u001b[36m0:00:00\u001b[0m\n",
            "\u001b[2K     \u001b[90m━━━━━━━━━━━━━━━━━━━━━━━━━━━━━━━━━━━━━━━━\u001b[0m \u001b[32m1.3/1.3 MB\u001b[0m \u001b[31m57.2 MB/s\u001b[0m eta \u001b[36m0:00:00\u001b[0m\n",
            "\u001b[2K     \u001b[90m━━━━━━━━━━━━━━━━━━━━━━━━━━━━━━━━━━━━━━━━\u001b[0m \u001b[32m1.1/1.1 MB\u001b[0m \u001b[31m45.6 MB/s\u001b[0m eta \u001b[36m0:00:00\u001b[0m\n",
            "\u001b[2K     \u001b[90m━━━━━━━━━━━━━━━━━━━━━━━━━━━━━━━━━━━━━━━━\u001b[0m \u001b[32m58.7/58.7 KB\u001b[0m \u001b[31m7.5 MB/s\u001b[0m eta \u001b[36m0:00:00\u001b[0m\n",
            "\u001b[2K     \u001b[90m━━━━━━━━━━━━━━━━━━━━━━━━━━━━━━━━━━━━━━━━\u001b[0m \u001b[32m50.5/50.5 MB\u001b[0m \u001b[31m9.8 MB/s\u001b[0m eta \u001b[36m0:00:00\u001b[0m\n",
            "\u001b[?25h  Preparing metadata (setup.py) ... \u001b[?25l\u001b[?25hdone\n",
            "  Preparing metadata (setup.py) ... \u001b[?25l\u001b[?25hdone\n",
            "\u001b[2K     \u001b[90m━━━━━━━━━━━━━━━━━━━━━━━━━━━━━━━━━━━━━━\u001b[0m \u001b[32m185.0/185.0 KB\u001b[0m \u001b[31m21.4 MB/s\u001b[0m eta \u001b[36m0:00:00\u001b[0m\n",
            "\u001b[?25h  Installing build dependencies ... \u001b[?25l\u001b[?25hdone\n",
            "  Getting requirements to build wheel ... \u001b[?25l\u001b[?25hdone\n",
            "  Preparing metadata (pyproject.toml) ... \u001b[?25l\u001b[?25hdone\n",
            "\u001b[2K     \u001b[90m━━━━━━━━━━━━━━━━━━━━━━━━━━━━━━━━━━━━━━━━\u001b[0m \u001b[32m4.0/4.0 MB\u001b[0m \u001b[31m88.2 MB/s\u001b[0m eta \u001b[36m0:00:00\u001b[0m\n",
            "\u001b[2K     \u001b[90m━━━━━━━━━━━━━━━━━━━━━━━━━━━━━━━━━━━━━━━━\u001b[0m \u001b[32m43.8/43.8 KB\u001b[0m \u001b[31m6.0 MB/s\u001b[0m eta \u001b[36m0:00:00\u001b[0m\n",
            "\u001b[2K     \u001b[90m━━━━━━━━━━━━━━━━━━━━━━━━━━━━━━━━━━━━━━━━\u001b[0m \u001b[32m15.6/15.6 MB\u001b[0m \u001b[31m86.1 MB/s\u001b[0m eta \u001b[36m0:00:00\u001b[0m\n",
            "\u001b[2K     \u001b[90m━━━━━━━━━━━━━━━━━━━━━━━━━━━━━━━━━━━━━━━━\u001b[0m \u001b[32m11.6/11.6 MB\u001b[0m \u001b[31m97.8 MB/s\u001b[0m eta \u001b[36m0:00:00\u001b[0m\n",
            "\u001b[?25h  Building wheel for episcanpy (setup.py) ... \u001b[?25l\u001b[?25hdone\n",
            "  Building wheel for bamnostic (pyproject.toml) ... \u001b[?25l\u001b[?25hdone\n",
            "  Building wheel for intervaltree (setup.py) ... \u001b[?25l\u001b[?25hdone\n",
            "\u001b[2K     \u001b[90m━━━━━━━━━━━━━━━━━━━━━━━━━━━━━━━━━━━━━━━━\u001b[0m \u001b[32m1.3/1.3 MB\u001b[0m \u001b[31m44.0 MB/s\u001b[0m eta \u001b[36m0:00:00\u001b[0m\n",
            "\u001b[?25h"
          ]
        }
      ],
      "source": [
        "!pip install -q networkx==2.6\n",
        "!pip install -q scanpy\n",
        "!pip install -q mapply\n",
        "!pip install -q matplotlib==3.1.3\n",
        "!pip install -q statsmodels \n",
        "!pip install -q igraph\n",
        "!pip install -q leidenalg\n",
        "!pip install -q louvain\n",
        "!pip install -q pybiomart\n",
        "!pip install -q episcanpy\n",
        "!pip install -q gseapy"
      ]
    },
    {
      "cell_type": "code",
      "execution_count": 2,
      "metadata": {
        "colab": {
          "base_uri": "https://localhost:8080/"
        },
        "id": "tewPZibZn1Tf",
        "outputId": "71454362-4225-41b2-939c-ba24b821571a"
      },
      "outputs": [
        {
          "output_type": "stream",
          "name": "stdout",
          "text": [
            "Cloning into 'Cell2CellMatch'...\n",
            "remote: Enumerating objects: 37, done.\u001b[K\n",
            "remote: Counting objects: 100% (37/37), done.\u001b[K\n",
            "remote: Compressing objects: 100% (36/36), done.\u001b[K\n",
            "remote: Total 37 (delta 13), reused 0 (delta 0), pack-reused 0\u001b[K\n",
            "Unpacking objects: 100% (37/37), 293.30 KiB | 412.00 KiB/s, done.\n"
          ]
        }
      ],
      "source": [
        "!git clone https://github.com/POde97/Cell2CellMatch.git"
      ]
    },
    {
      "cell_type": "code",
      "execution_count": 3,
      "metadata": {
        "colab": {
          "base_uri": "https://localhost:8080/"
        },
        "id": "gTl0ByDqn_Os",
        "outputId": "9436e61b-9a57-4462-f113-aaabefacf449"
      },
      "outputs": [
        {
          "output_type": "stream",
          "name": "stdout",
          "text": [
            "/content/Cell2CellMatch\n"
          ]
        }
      ],
      "source": [
        "cd Cell2CellMatch"
      ]
    },
    {
      "cell_type": "code",
      "execution_count": 4,
      "metadata": {
        "colab": {
          "base_uri": "https://localhost:8080/"
        },
        "id": "H8LnT40_phtM",
        "outputId": "3b732e9c-566d-4b53-a220-2d6a78e42da1"
      },
      "outputs": [
        {
          "output_type": "stream",
          "name": "stdout",
          "text": [
            "--2023-03-27 07:25:34--  https://docs.google.com/uc?export=download&id=10rHN_60c2NJvVh8HXcY7P6jNBS9ptp5E\n",
            "Resolving docs.google.com (docs.google.com)... 74.125.200.100, 74.125.200.139, 74.125.200.138, ...\n",
            "Connecting to docs.google.com (docs.google.com)|74.125.200.100|:443... connected.\n",
            "HTTP request sent, awaiting response... 303 See Other\n",
            "Location: https://doc-0k-8c-docs.googleusercontent.com/docs/securesc/ha0ro937gcuc7l7deffksulhg5h7mbp1/ef632ts4e88b8j13hgnd9fketrvti80a/1679901900000/15472246493323528491/*/10rHN_60c2NJvVh8HXcY7P6jNBS9ptp5E?e=download&uuid=d2073631-cde1-4b39-ba9b-431f5948ed3d [following]\n",
            "Warning: wildcards not supported in HTTP.\n",
            "--2023-03-27 07:25:41--  https://doc-0k-8c-docs.googleusercontent.com/docs/securesc/ha0ro937gcuc7l7deffksulhg5h7mbp1/ef632ts4e88b8j13hgnd9fketrvti80a/1679901900000/15472246493323528491/*/10rHN_60c2NJvVh8HXcY7P6jNBS9ptp5E?e=download&uuid=d2073631-cde1-4b39-ba9b-431f5948ed3d\n",
            "Resolving doc-0k-8c-docs.googleusercontent.com (doc-0k-8c-docs.googleusercontent.com)... 172.217.194.132, 2404:6800:4003:c04::84\n",
            "Connecting to doc-0k-8c-docs.googleusercontent.com (doc-0k-8c-docs.googleusercontent.com)|172.217.194.132|:443... connected.\n",
            "HTTP request sent, awaiting response... 200 OK\n",
            "Length: 75760466 (72M) [application/octet-stream]\n",
            "Saving to: ‘Baron.h5ad’\n",
            "\n",
            "Baron.h5ad          100%[===================>]  72.25M  44.9MB/s    in 1.6s    \n",
            "\n",
            "2023-03-27 07:25:43 (44.9 MB/s) - ‘Baron.h5ad’ saved [75760466/75760466]\n",
            "\n"
          ]
        }
      ],
      "source": [
        "!wget --no-check-certificate 'https://docs.google.com/uc?export=download&id=10rHN_60c2NJvVh8HXcY7P6jNBS9ptp5E' -O \"Baron.h5ad\""
      ]
    },
    {
      "cell_type": "markdown",
      "metadata": {
        "id": "KC5IgKA5w59i"
      },
      "source": [
        "#**Load data, build Cell2CellMatch network and perform community detection**\n",
        "\n",
        "\n",
        "In brief, Cell2CellMatch() class generate a network representation of cells based on multiple correspondence analysis (mca) representation. Cells are connected through edges weighted by the correspondent Pvalue obtained through an hypergeometric test. Further it finds best treshold on Pvalue distribution and prune not significant edges, finally it detects community using Leiden Algoritm "
      ]
    },
    {
      "cell_type": "code",
      "execution_count": 5,
      "metadata": {
        "id": "fXuKSp0mpzra"
      },
      "outputs": [],
      "source": [
        "from CellID import*\n",
        "from ProteinCoding import*\n",
        "from CellID import*\n",
        "from HyperG import* \n",
        "from Cell2CellMatch import*\n",
        "from utils import*\n",
        "from ProteinCoding import*\n",
        "seed_everything(1)\n",
        "\n"
      ]
    },
    {
      "cell_type": "code",
      "execution_count": 6,
      "metadata": {
        "id": "isl0y7eWIAJZ"
      },
      "outputs": [],
      "source": [
        "adata = sc.read(\"Baron.h5ad\")\n",
        "adata.obs[\"batch\"] = adata.obs[\"orig.ident\"]\n",
        "#subset data to the first two batch to speed up computation \n",
        "adata = adata[adata.obs[\"batch\"].isin([0,1])].copy()\n",
        "sc.pp.filter_cells(adata, min_counts=5)"
      ]
    },
    {
      "cell_type": "code",
      "execution_count": 7,
      "metadata": {
        "colab": {
          "base_uri": "https://localhost:8080/",
          "height": 136,
          "referenced_widgets": [
            "097ab3778f024ab9b2bd25692901c141",
            "825702f53622425f807402962f78f56f",
            "aef035c58b51465eba6ddd5d8c436d7b",
            "be2d230113a2439a85a5f4df2b232acf",
            "5d100a5674944113886e09e39f1a17d0",
            "720c4b41e45d4a37904ae84b8a1009d6",
            "d5014267fb4347acb150a36694ada62d",
            "3b58325b5a824c5f8bb03d53fba77c7c",
            "4173c5fd82b14d21b62123e32db09c77",
            "b626b855306d4c359045578c6bbdc91c",
            "67c6dde1fe7e482f84b9d435e86b13f7"
          ]
        },
        "id": "273sQHXLS219",
        "outputId": "47128506-6863-42c9-873e-3bb0f485de30"
      },
      "outputs": [
        {
          "output_type": "stream",
          "name": "stdout",
          "text": [
            "Performing Cell-ID per batch\n"
          ]
        },
        {
          "output_type": "stream",
          "name": "stderr",
          "text": [
            "100%|██████████| 2/2 [00:46<00:00, 23.16s/it]\n"
          ]
        },
        {
          "output_type": "stream",
          "name": "stdout",
          "text": [
            "Hypergeometric Test\n"
          ]
        },
        {
          "output_type": "display_data",
          "data": {
            "text/plain": [
              "  0%|          | 0/160 [00:00<?, ?it/s]"
            ],
            "application/vnd.jupyter.widget-view+json": {
              "version_major": 2,
              "version_minor": 0,
              "model_id": "097ab3778f024ab9b2bd25692901c141"
            }
          },
          "metadata": {}
        },
        {
          "output_type": "stream",
          "name": "stdout",
          "text": [
            "Build network + sparsification\n",
            "Find communities\n"
          ]
        }
      ],
      "source": [
        "C2C = Cell2CellMatch(adata,gpu_cuda = True,mply_p = 32)"
      ]
    },
    {
      "cell_type": "code",
      "execution_count": 8,
      "metadata": {
        "id": "HpNRrtaDS27p",
        "colab": {
          "base_uri": "https://localhost:8080/"
        },
        "outputId": "1d3b7c92-c6db-4fc9-a94f-330687c47eea"
      },
      "outputs": [
        {
          "output_type": "stream",
          "name": "stdout",
          "text": [
            "Adjusted Muataual Information:  0.8665679849421101\n"
          ]
        }
      ],
      "source": [
        "from sklearn.metrics.cluster import adjusted_mutual_info_score as AMI\n",
        "adata1 = adata[~adata.obs[\"C2C-cl\"].isna()]\n",
        "print(\"Adjusted Muataual Information: \",AMI(list(adata1.obs[\"cell.type\"]),list(adata1.obs[\"C2C-cl\"])))"
      ]
    },
    {
      "cell_type": "markdown",
      "metadata": {
        "id": "GuZa3GZK1mLa"
      },
      "source": [
        "#**Visualization**"
      ]
    },
    {
      "cell_type": "code",
      "execution_count": 9,
      "metadata": {
        "id": "ucAlhNbfzFdY",
        "colab": {
          "base_uri": "https://localhost:8080/",
          "height": 269
        },
        "outputId": "b462831f-6844-4620-f268-1b9c403a4cec"
      },
      "outputs": [
        {
          "output_type": "display_data",
          "data": {
            "text/plain": [
              "<Figure size 1728x576 with 1 Axes>"
            ],
            "image/png": "[encoded data removed]"
          },
          "metadata": {
            "needs_background": "light"
          }
        }
      ],
      "source": [
        "color = [\"black\",\"gray\",\"rosybrown\",\"red\",\"chocolate\",\"darkorange\",\"yellow\",\"lawngreen\",\"blue\",\"mediumpurple\",\"fuchsia\",\"deepskyblue\",\"navy\",'gainsboro']\n",
        "C2C.Clvis1(\"cell.type\",n=1,color=color)"
      ]
    },
    {
      "cell_type": "markdown",
      "metadata": {
        "id": "UPuhDiGU1qDo"
      },
      "source": [
        "#**Cluster signatures enrichment**"
      ]
    },
    {
      "cell_type": "code",
      "execution_count": 10,
      "metadata": {
        "id": "LrHayQjFzFgO"
      },
      "outputs": [],
      "source": [
        "df_sign_cl = C2C.XClusterSignature()"
      ]
    },
    {
      "cell_type": "code",
      "execution_count": 11,
      "metadata": {
        "id": "Hl7D0qa6zFjA"
      },
      "outputs": [],
      "source": [
        "import gseapy\n",
        "gene_set_names = gseapy.get_library_name(organism='Human')\n",
        "Henrich=[]\n",
        "dftot = df_sign_cl\n",
        "cl_l = list(dftot.index)\n",
        "for i in range(len(dftot)):\n",
        "  glist = list(dftot.iloc[i][\"signature\"])\n",
        "\n",
        "  cl = cl_l[i]\n",
        "  #glist = list(glist.dropna().drop(\"index\").sort_values(ascending = False).index)[:200]\n",
        "  enr_res = gseapy.enrichr(gene_list=glist,\n",
        "                     organism='Human',\n",
        "                     gene_sets='GO_Biological_Process_2018',\n",
        "                     \n",
        "                     cutoff = 0.5)\n",
        "  \n",
        "  Henrich.append([cl,enr_res.results.iloc[0][\"Term\"],\n",
        "    enr_res.results.iloc[0][\"Adjusted P-value\"],\n",
        "    enr_res.results.iloc[0][\"Genes\"]])"
      ]
    },
    {
      "cell_type": "code",
      "execution_count": 12,
      "metadata": {
        "colab": {
          "base_uri": "https://localhost:8080/",
          "height": 539
        },
        "id": "BZcUR9GxzFlV",
        "outputId": "3a1d0001-bffc-4255-90ac-0b385d009fba"
      },
      "outputs": [
        {
          "output_type": "execute_result",
          "data": {
            "text/plain": [
              "         cluster                                          GO-Top200  \\\n",
              "0    cluster-5.0         diterpenoid metabolic process (GO:0016101)   \n",
              "1    cluster-0.0  plasma membrane bounded cell projection organi...   \n",
              "2    cluster-2.0        chemical synaptic transmission (GO:0007268)   \n",
              "3    cluster-6.0  positive regulation of T-helper 2 cell differe...   \n",
              "4    cluster-4.0     extracellular matrix organization (GO:0030198)   \n",
              "5    cluster-3.0   positive regulation of MAPK cascade (GO:0043410)   \n",
              "6    cluster-1.0                   metal ion transport (GO:0030001)   \n",
              "7    cluster-7.0                        vasculogenesis (GO:0001570)   \n",
              "8    cluster-8.0              neutrophil degranulation (GO:0043312)   \n",
              "9    cluster-9.0  mitotic sister chromatid segregation (GO:0000070)   \n",
              "10  cluster-10.0                     T cell activation (GO:0042110)   \n",
              "11  cluster-11.0  purine nucleobase biosynthetic process (GO:000...   \n",
              "\n",
              "        P_val200                                        GenesTop200  \n",
              "0   1.222785e-05  CLPS;RBP2;SDC4;RARRES2;AKR1C1;APOA2;AKR1C3;RDH...  \n",
              "1   3.025104e-05  ADCYAP1;GPM6A;NPY;RASGRF1;TMEM108;PRDM12;MAPT;...  \n",
              "2   6.902033e-03  GABRB3;GABRA1;CHRM3;SYT1;MCHR1;GABRG2;SHISA6;G...  \n",
              "3   2.138917e-02                                 TNFSF4;NLRP3;PRKCZ  \n",
              "4   1.350785e-25  SPARC;COL16A1;COL14A1;LAMC3;COL12A1;NID1;NID2;...  \n",
              "5   4.213066e-05  EPHB6;EDN1;TGFB2;CAV2;TNFRSF10B;CX3CL1;EGFR;PD...  \n",
              "6   4.948469e-05  KCNJ4;KCNJ6;KCNC1;KCND3;SCN9A;KCNMB2;KCNAB1;KC...  \n",
              "7   3.054128e-10  RAMP2;EGFL7;NOTCH1;FLT1;SOX17;SOX18;FLT4;KDR;R...  \n",
              "8   1.843137e-09  ARHGAP9;FGL2;PTAFR;ITGB2;CTSS;TRPM2;GLIPR1;MMP...  \n",
              "9   3.285785e-12  SPAG5;CDCA5;PLK1;KIF14;CDCA8;KIF22;KNSTRN;ZWIN...  \n",
              "10  2.580580e-05  CD2;PTPRC;CD8B;CD8A;CD7;CCR7;LCP1;CD3E;CD3D;PTPN2  \n",
              "11  4.915730e-01                                       MTHFD1;SHMT1  "
            ],
            "text/html": [
              "\n",
              "  <div id=\"df-437d3714-b4cc-40d0-85a8-a2f8e1712a86\">\n",
              "    <div class=\"colab-df-container\">\n",
              "      <div>\n",
              "<style scoped>\n",
              "    .dataframe tbody tr th:only-of-type {\n",
              "        vertical-align: middle;\n",
              "    }\n",
              "\n",
              "    .dataframe tbody tr th {\n",
              "        vertical-align: top;\n",
              "    }\n",
              "\n",
              "    .dataframe thead th {\n",
              "        text-align: right;\n",
              "    }\n",
              "</style>\n",
              "<table border=\"1\" class=\"dataframe\">\n",
              "  <thead>\n",
              "    <tr style=\"text-align: right;\">\n",
              "      <th></th>\n",
              "      <th>cluster</th>\n",
              "      <th>GO-Top200</th>\n",
              "      <th>P_val200</th>\n",
              "      <th>GenesTop200</th>\n",
              "    </tr>\n",
              "  </thead>\n",
              "  <tbody>\n",
              "    <tr>\n",
              "      <th>0</th>\n",
              "      <td>cluster-5.0</td>\n",
              "      <td>diterpenoid metabolic process (GO:0016101)</td>\n",
              "      <td>1.222785e-05</td>\n",
              "      <td>CLPS;RBP2;SDC4;RARRES2;AKR1C1;APOA2;AKR1C3;RDH...</td>\n",
              "    </tr>\n",
              "    <tr>\n",
              "      <th>1</th>\n",
              "      <td>cluster-0.0</td>\n",
              "      <td>plasma membrane bounded cell projection organi...</td>\n",
              "      <td>3.025104e-05</td>\n",
              "      <td>ADCYAP1;GPM6A;NPY;RASGRF1;TMEM108;PRDM12;MAPT;...</td>\n",
              "    </tr>\n",
              "    <tr>\n",
              "      <th>2</th>\n",
              "      <td>cluster-2.0</td>\n",
              "      <td>chemical synaptic transmission (GO:0007268)</td>\n",
              "      <td>6.902033e-03</td>\n",
              "      <td>GABRB3;GABRA1;CHRM3;SYT1;MCHR1;GABRG2;SHISA6;G...</td>\n",
              "    </tr>\n",
              "    <tr>\n",
              "      <th>3</th>\n",
              "      <td>cluster-6.0</td>\n",
              "      <td>positive regulation of T-helper 2 cell differe...</td>\n",
              "      <td>2.138917e-02</td>\n",
              "      <td>TNFSF4;NLRP3;PRKCZ</td>\n",
              "    </tr>\n",
              "    <tr>\n",
              "      <th>4</th>\n",
              "      <td>cluster-4.0</td>\n",
              "      <td>extracellular matrix organization (GO:0030198)</td>\n",
              "      <td>1.350785e-25</td>\n",
              "      <td>SPARC;COL16A1;COL14A1;LAMC3;COL12A1;NID1;NID2;...</td>\n",
              "    </tr>\n",
              "    <tr>\n",
              "      <th>5</th>\n",
              "      <td>cluster-3.0</td>\n",
              "      <td>positive regulation of MAPK cascade (GO:0043410)</td>\n",
              "      <td>4.213066e-05</td>\n",
              "      <td>EPHB6;EDN1;TGFB2;CAV2;TNFRSF10B;CX3CL1;EGFR;PD...</td>\n",
              "    </tr>\n",
              "    <tr>\n",
              "      <th>6</th>\n",
              "      <td>cluster-1.0</td>\n",
              "      <td>metal ion transport (GO:0030001)</td>\n",
              "      <td>4.948469e-05</td>\n",
              "      <td>KCNJ4;KCNJ6;KCNC1;KCND3;SCN9A;KCNMB2;KCNAB1;KC...</td>\n",
              "    </tr>\n",
              "    <tr>\n",
              "      <th>7</th>\n",
              "      <td>cluster-7.0</td>\n",
              "      <td>vasculogenesis (GO:0001570)</td>\n",
              "      <td>3.054128e-10</td>\n",
              "      <td>RAMP2;EGFL7;NOTCH1;FLT1;SOX17;SOX18;FLT4;KDR;R...</td>\n",
              "    </tr>\n",
              "    <tr>\n",
              "      <th>8</th>\n",
              "      <td>cluster-8.0</td>\n",
              "      <td>neutrophil degranulation (GO:0043312)</td>\n",
              "      <td>1.843137e-09</td>\n",
              "      <td>ARHGAP9;FGL2;PTAFR;ITGB2;CTSS;TRPM2;GLIPR1;MMP...</td>\n",
              "    </tr>\n",
              "    <tr>\n",
              "      <th>9</th>\n",
              "      <td>cluster-9.0</td>\n",
              "      <td>mitotic sister chromatid segregation (GO:0000070)</td>\n",
              "      <td>3.285785e-12</td>\n",
              "      <td>SPAG5;CDCA5;PLK1;KIF14;CDCA8;KIF22;KNSTRN;ZWIN...</td>\n",
              "    </tr>\n",
              "    <tr>\n",
              "      <th>10</th>\n",
              "      <td>cluster-10.0</td>\n",
              "      <td>T cell activation (GO:0042110)</td>\n",
              "      <td>2.580580e-05</td>\n",
              "      <td>CD2;PTPRC;CD8B;CD8A;CD7;CCR7;LCP1;CD3E;CD3D;PTPN2</td>\n",
              "    </tr>\n",
              "    <tr>\n",
              "      <th>11</th>\n",
              "      <td>cluster-11.0</td>\n",
              "      <td>purine nucleobase biosynthetic process (GO:000...</td>\n",
              "      <td>4.915730e-01</td>\n",
              "      <td>MTHFD1;SHMT1</td>\n",
              "    </tr>\n",
              "  </tbody>\n",
              "</table>\n",
              "</div>\n",
              "      <button class=\"colab-df-convert\" onclick=\"convertToInteractive('df-437d3714-b4cc-40d0-85a8-a2f8e1712a86')\"\n",
              "              title=\"Convert this dataframe to an interactive table.\"\n",
              "              style=\"display:none;\">\n",
              "        \n",
              "  <svg xmlns=\"http://www.w3.org/2000/svg\" height=\"24px\"viewBox=\"0 0 24 24\"\n",
              "       width=\"24px\">\n",
              "    <path d=\"M0 0h24v24H0V0z\" fill=\"none\"/>\n",
              "    <path d=\"M18.56 5.44l.94 2.06.94-2.06 2.06-.94-2.06-.94-.94-2.06-.94 2.06-2.06.94zm-11 1L8.5 8.5l.94-2.06 2.06-.94-2.06-.94L8.5 2.5l-.94 2.06-2.06.94zm10 10l.94 2.06.94-2.06 2.06-.94-2.06-.94-.94-2.06-.94 2.06-2.06.94z\"/><path d=\"M17.41 7.96l-1.37-1.37c-.4-.4-.92-.59-1.43-.59-.52 0-1.04.2-1.43.59L10.3 9.45l-7.72 7.72c-.78.78-.78 2.05 0 2.83L4 21.41c.39.39.9.59 1.41.59.51 0 1.02-.2 1.41-.59l7.78-7.78 2.81-2.81c.8-.78.8-2.07 0-2.86zM5.41 20L4 18.59l7.72-7.72 1.47 1.35L5.41 20z\"/>\n",
              "  </svg>\n",
              "      </button>\n",
              "      \n",
              "  <style>\n",
              "    .colab-df-container {\n",
              "      display:flex;\n",
              "      flex-wrap:wrap;\n",
              "      gap: 12px;\n",
              "    }\n",
              "\n",
              "    .colab-df-convert {\n",
              "      background-color: #E8F0FE;\n",
              "      border: none;\n",
              "      border-radius: 50%;\n",
              "      cursor: pointer;\n",
              "      display: none;\n",
              "      fill: #1967D2;\n",
              "      height: 32px;\n",
              "      padding: 0 0 0 0;\n",
              "      width: 32px;\n",
              "    }\n",
              "\n",
              "    .colab-df-convert:hover {\n",
              "      background-color: #E2EBFA;\n",
              "      box-shadow: 0px 1px 2px rgba(60, 64, 67, 0.3), 0px 1px 3px 1px rgba(60, 64, 67, 0.15);\n",
              "      fill: #174EA6;\n",
              "    }\n",
              "\n",
              "    [theme=dark] .colab-df-convert {\n",
              "      background-color: #3B4455;\n",
              "      fill: #D2E3FC;\n",
              "    }\n",
              "\n",
              "    [theme=dark] .colab-df-convert:hover {\n",
              "      background-color: #434B5C;\n",
              "      box-shadow: 0px 1px 3px 1px rgba(0, 0, 0, 0.15);\n",
              "      filter: drop-shadow(0px 1px 2px rgba(0, 0, 0, 0.3));\n",
              "      fill: #FFFFFF;\n",
              "    }\n",
              "  </style>\n",
              "\n",
              "      <script>\n",
              "        const buttonEl =\n",
              "          document.querySelector('#df-437d3714-b4cc-40d0-85a8-a2f8e1712a86 button.colab-df-convert');\n",
              "        buttonEl.style.display =\n",
              "          google.colab.kernel.accessAllowed ? 'block' : 'none';\n",
              "\n",
              "        async function convertToInteractive(key) {\n",
              "          const element = document.querySelector('#df-437d3714-b4cc-40d0-85a8-a2f8e1712a86');\n",
              "          const dataTable =\n",
              "            await google.colab.kernel.invokeFunction('convertToInteractive',\n",
              "                                                     [key], {});\n",
              "          if (!dataTable) return;\n",
              "\n",
              "          const docLinkHtml = 'Like what you see? Visit the ' +\n",
              "            '<a target=\"_blank\" href=https://colab.research.google.com/notebooks/data_table.ipynb>data table notebook</a>'\n",
              "            + ' to learn more about interactive tables.';\n",
              "          element.innerHTML = '';\n",
              "          dataTable['output_type'] = 'display_data';\n",
              "          await google.colab.output.renderOutput(dataTable, element);\n",
              "          const docLink = document.createElement('div');\n",
              "          docLink.innerHTML = docLinkHtml;\n",
              "          element.appendChild(docLink);\n",
              "        }\n",
              "      </script>\n",
              "    </div>\n",
              "  </div>\n",
              "  "
            ]
          },
          "metadata": {},
          "execution_count": 12
        }
      ],
      "source": [
        "d_top200 = pd.DataFrame(Henrich,columns = [\"cluster\",\"GO-Top200\",\"P_val200\",\"GenesTop200\"])\n",
        "d_top200"
      ]
    },
    {
      "cell_type": "code",
      "source": [],
      "metadata": {
        "id": "2-7hWxxcCw8G"
      },
      "execution_count": null,
      "outputs": []
    }
  ],
  "metadata": {
    "accelerator": "GPU",
    "colab": {
      "machine_shape": "hm",
      "provenance": [],
      "mount_file_id": "1r6wEGQr1dpw1eboiJl2sEUwVPVcE1YGu",
      "authorship_tag": "ABX9TyON2j+fV70Qs5CdSdFhorQ1",
      "include_colab_link": true
    },
    "gpuClass": "standard",
    "kernelspec": {
      "display_name": "Python 3",
      "name": "python3"
    },
    "language_info": {
      "name": "python"
    },
    "widgets": {
      "application/vnd.jupyter.widget-state+json": {
        "097ab3778f024ab9b2bd25692901c141": {
          "model_module": "@jupyter-widgets/controls",
          "model_name": "HBoxModel",
          "model_module_version": "1.5.0",
          "state": {
            "_dom_classes": [],
            "_model_module": "@jupyter-widgets/controls",
            "_model_module_version": "1.5.0",
            "_model_name": "HBoxModel",
            "_view_count": null,
            "_view_module": "@jupyter-widgets/controls",
            "_view_module_version": "1.5.0",
            "_view_name": "HBoxView",
            "box_style": "",
            "children": [
              "IPY_MODEL_825702f53622425f807402962f78f56f",
              "IPY_MODEL_aef035c58b51465eba6ddd5d8c436d7b",
              "IPY_MODEL_be2d230113a2439a85a5f4df2b232acf"
            ],
            "layout": "IPY_MODEL_5d100a5674944113886e09e39f1a17d0"
          }
        },
        "825702f53622425f807402962f78f56f": {
          "model_module": "@jupyter-widgets/controls",
          "model_name": "HTMLModel",
          "model_module_version": "1.5.0",
          "state": {
            "_dom_classes": [],
            "_model_module": "@jupyter-widgets/controls",
            "_model_module_version": "1.5.0",
            "_model_name": "HTMLModel",
            "_view_count": null,
            "_view_module": "@jupyter-widgets/controls",
            "_view_module_version": "1.5.0",
            "_view_name": "HTMLView",
            "description": "",
            "description_tooltip": null,
            "layout": "IPY_MODEL_720c4b41e45d4a37904ae84b8a1009d6",
            "placeholder": "​",
            "style": "IPY_MODEL_d5014267fb4347acb150a36694ada62d",
            "value": "100%"
          }
        },
        "aef035c58b51465eba6ddd5d8c436d7b": {
          "model_module": "@jupyter-widgets/controls",
          "model_name": "FloatProgressModel",
          "model_module_version": "1.5.0",
          "state": {
            "_dom_classes": [],
            "_model_module": "@jupyter-widgets/controls",
            "_model_module_version": "1.5.0",
            "_model_name": "FloatProgressModel",
            "_view_count": null,
            "_view_module": "@jupyter-widgets/controls",
            "_view_module_version": "1.5.0",
            "_view_name": "ProgressView",
            "bar_style": "success",
            "description": "",
            "description_tooltip": null,
            "layout": "IPY_MODEL_3b58325b5a824c5f8bb03d53fba77c7c",
            "max": 160,
            "min": 0,
            "orientation": "horizontal",
            "style": "IPY_MODEL_4173c5fd82b14d21b62123e32db09c77",
            "value": 160
          }
        },
        "be2d230113a2439a85a5f4df2b232acf": {
          "model_module": "@jupyter-widgets/controls",
          "model_name": "HTMLModel",
          "model_module_version": "1.5.0",
          "state": {
            "_dom_classes": [],
            "_model_module": "@jupyter-widgets/controls",
            "_model_module_version": "1.5.0",
            "_model_name": "HTMLModel",
            "_view_count": null,
            "_view_module": "@jupyter-widgets/controls",
            "_view_module_version": "1.5.0",
            "_view_name": "HTMLView",
            "description": "",
            "description_tooltip": null,
            "layout": "IPY_MODEL_b626b855306d4c359045578c6bbdc91c",
            "placeholder": "​",
            "style": "IPY_MODEL_67c6dde1fe7e482f84b9d435e86b13f7",
            "value": " 160/160 [35:28&lt;00:00, 12.91s/it]"
          }
        },
        "5d100a5674944113886e09e39f1a17d0": {
          "model_module": "@jupyter-widgets/base",
          "model_name": "LayoutModel",
          "model_module_version": "1.2.0",
          "state": {
            "_model_module": "@jupyter-widgets/base",
            "_model_module_version": "1.2.0",
            "_model_name": "LayoutModel",
            "_view_count": null,
            "_view_module": "@jupyter-widgets/base",
            "_view_module_version": "1.2.0",
            "_view_name": "LayoutView",
            "align_content": null,
            "align_items": null,
            "align_self": null,
            "border": null,
            "bottom": null,
            "display": "inline-flex",
            "flex": null,
            "flex_flow": "row wrap",
            "grid_area": null,
            "grid_auto_columns": null,
            "grid_auto_flow": null,
            "grid_auto_rows": null,
            "grid_column": null,
            "grid_gap": null,
            "grid_row": null,
            "grid_template_areas": null,
            "grid_template_columns": null,
            "grid_template_rows": null,
            "height": null,
            "justify_content": null,
            "justify_items": null,
            "left": null,
            "margin": null,
            "max_height": null,
            "max_width": null,
            "min_height": null,
            "min_width": null,
            "object_fit": null,
            "object_position": null,
            "order": null,
            "overflow": null,
            "overflow_x": null,
            "overflow_y": null,
            "padding": null,
            "right": null,
            "top": null,
            "visibility": null,
            "width": "100%"
          }
        },
        "720c4b41e45d4a37904ae84b8a1009d6": {
          "model_module": "@jupyter-widgets/base",
          "model_name": "LayoutModel",
          "model_module_version": "1.2.0",
          "state": {
            "_model_module": "@jupyter-widgets/base",
            "_model_module_version": "1.2.0",
            "_model_name": "LayoutModel",
            "_view_count": null,
            "_view_module": "@jupyter-widgets/base",
            "_view_module_version": "1.2.0",
            "_view_name": "LayoutView",
            "align_content": null,
            "align_items": null,
            "align_self": null,
            "border": null,
            "bottom": null,
            "display": null,
            "flex": null,
            "flex_flow": null,
            "grid_area": null,
            "grid_auto_columns": null,
            "grid_auto_flow": null,
            "grid_auto_rows": null,
            "grid_column": null,
            "grid_gap": null,
            "grid_row": null,
            "grid_template_areas": null,
            "grid_template_columns": null,
            "grid_template_rows": null,
            "height": null,
            "justify_content": null,
            "justify_items": null,
            "left": null,
            "margin": null,
            "max_height": null,
            "max_width": null,
            "min_height": null,
            "min_width": null,
            "object_fit": null,
            "object_position": null,
            "order": null,
            "overflow": null,
            "overflow_x": null,
            "overflow_y": null,
            "padding": null,
            "right": null,
            "top": null,
            "visibility": null,
            "width": null
          }
        },
        "d5014267fb4347acb150a36694ada62d": {
          "model_module": "@jupyter-widgets/controls",
          "model_name": "DescriptionStyleModel",
          "model_module_version": "1.5.0",
          "state": {
            "_model_module": "@jupyter-widgets/controls",
            "_model_module_version": "1.5.0",
            "_model_name": "DescriptionStyleModel",
            "_view_count": null,
            "_view_module": "@jupyter-widgets/base",
            "_view_module_version": "1.2.0",
            "_view_name": "StyleView",
            "description_width": ""
          }
        },
        "3b58325b5a824c5f8bb03d53fba77c7c": {
          "model_module": "@jupyter-widgets/base",
          "model_name": "LayoutModel",
          "model_module_version": "1.2.0",
          "state": {
            "_model_module": "@jupyter-widgets/base",
            "_model_module_version": "1.2.0",
            "_model_name": "LayoutModel",
            "_view_count": null,
            "_view_module": "@jupyter-widgets/base",
            "_view_module_version": "1.2.0",
            "_view_name": "LayoutView",
            "align_content": null,
            "align_items": null,
            "align_self": null,
            "border": null,
            "bottom": null,
            "display": null,
            "flex": "2",
            "flex_flow": null,
            "grid_area": null,
            "grid_auto_columns": null,
            "grid_auto_flow": null,
            "grid_auto_rows": null,
            "grid_column": null,
            "grid_gap": null,
            "grid_row": null,
            "grid_template_areas": null,
            "grid_template_columns": null,
            "grid_template_rows": null,
            "height": null,
            "justify_content": null,
            "justify_items": null,
            "left": null,
            "margin": null,
            "max_height": null,
            "max_width": null,
            "min_height": null,
            "min_width": null,
            "object_fit": null,
            "object_position": null,
            "order": null,
            "overflow": null,
            "overflow_x": null,
            "overflow_y": null,
            "padding": null,
            "right": null,
            "top": null,
            "visibility": null,
            "width": null
          }
        },
        "4173c5fd82b14d21b62123e32db09c77": {
          "model_module": "@jupyter-widgets/controls",
          "model_name": "ProgressStyleModel",
          "model_module_version": "1.5.0",
          "state": {
            "_model_module": "@jupyter-widgets/controls",
            "_model_module_version": "1.5.0",
            "_model_name": "ProgressStyleModel",
            "_view_count": null,
            "_view_module": "@jupyter-widgets/base",
            "_view_module_version": "1.2.0",
            "_view_name": "StyleView",
            "bar_color": null,
            "description_width": ""
          }
        },
        "b626b855306d4c359045578c6bbdc91c": {
          "model_module": "@jupyter-widgets/base",
          "model_name": "LayoutModel",
          "model_module_version": "1.2.0",
          "state": {
            "_model_module": "@jupyter-widgets/base",
            "_model_module_version": "1.2.0",
            "_model_name": "LayoutModel",
            "_view_count": null,
            "_view_module": "@jupyter-widgets/base",
            "_view_module_version": "1.2.0",
            "_view_name": "LayoutView",
            "align_content": null,
            "align_items": null,
            "align_self": null,
            "border": null,
            "bottom": null,
            "display": null,
            "flex": null,
            "flex_flow": null,
            "grid_area": null,
            "grid_auto_columns": null,
            "grid_auto_flow": null,
            "grid_auto_rows": null,
            "grid_column": null,
            "grid_gap": null,
            "grid_row": null,
            "grid_template_areas": null,
            "grid_template_columns": null,
            "grid_template_rows": null,
            "height": null,
            "justify_content": null,
            "justify_items": null,
            "left": null,
            "margin": null,
            "max_height": null,
            "max_width": null,
            "min_height": null,
            "min_width": null,
            "object_fit": null,
            "object_position": null,
            "order": null,
            "overflow": null,
            "overflow_x": null,
            "overflow_y": null,
            "padding": null,
            "right": null,
            "top": null,
            "visibility": null,
            "width": null
          }
        },
        "67c6dde1fe7e482f84b9d435e86b13f7": {
          "model_module": "@jupyter-widgets/controls",
          "model_name": "DescriptionStyleModel",
          "model_module_version": "1.5.0",
          "state": {
            "_model_module": "@jupyter-widgets/controls",
            "_model_module_version": "1.5.0",
            "_model_name": "DescriptionStyleModel",
            "_view_count": null,
            "_view_module": "@jupyter-widgets/base",
            "_view_module_version": "1.2.0",
            "_view_name": "StyleView",
            "description_width": ""
          }
        }
      }
    }
  },
  "nbformat": 4,
  "nbformat_minor": 0
}